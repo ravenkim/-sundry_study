{
 "cells": [
  {
   "cell_type": "code",
   "execution_count": 1,
   "metadata": {},
   "outputs": [],
   "source": [
    "import urllib3\n",
    "import json\n",
    "import base64\n",
    "import re"
   ]
  },
  {
   "cell_type": "code",
   "execution_count": 2,
   "metadata": {},
   "outputs": [],
   "source": [
    "accessKey = \"8972d09b-9538-44a2-bf3d-f51c50e2edf0\"\n",
    "imageFilePath = \"sample/walkingWithDog2.png\"\n",
    "type = \"jpg\""
   ]
  },
  {
   "cell_type": "code",
   "execution_count": 3,
   "metadata": {},
   "outputs": [],
   "source": [
    "objectDetectionApiURL = \"http://aiopen.etri.re.kr:8000/ObjectDetect\"\n",
    "humanStatusApiURL = \"http://aiopen.etri.re.kr:8000/HumanStatus\"\n",
    "WiseNLUApiURL = \"http://aiopen.etri.re.kr:8000/WiseNLU_spoken\""
   ]
  },
  {
   "cell_type": "code",
   "execution_count": 4,
   "metadata": {},
   "outputs": [],
   "source": [
    "object_to_korean = {\n",
    "    \"person\": \"사람\",\n",
    "    \"bicycle\": \"자전거\",\n",
    "    \"car\": \"자동차\",\n",
    "    \"motorcycle\": \"오토바이\",\n",
    "    \"airplane\": \"비행기\",\n",
    "    \"bus\": \"버스\",\n",
    "    \"train\": \"기차\",\n",
    "    \"truck\": \"트럭\",\n",
    "    \"boat\": \"보트\",\n",
    "    \"traffic light\": \"신호등\",\n",
    "    \"fire hydrant\": \"소화전\",\n",
    "    \"stop sign\": \"정지 신호\",\n",
    "    \"parking meter\": \"주차 미터\",\n",
    "    \"bench\": \"벤치\",\n",
    "    \"bird\": \"새\",\n",
    "    \"cat\": \"고양이\",\n",
    "    \"dog\": \"개\",\n",
    "    \"horse\": \"말\",\n",
    "    \"sheep\": \"양\",\n",
    "    \"cow\": \"소\",\n",
    "    \"elephant\": \"코끼리\",\n",
    "    \"bear\": \"곰\",\n",
    "    \"zebra\": \"얼룩말\",\n",
    "    \"giraffe\": \"기린\",\n",
    "    \"backpack\": \"배낭\",\n",
    "    \"umbrella\": \"우산\",\n",
    "    \"handbag\": \"핸드백\",\n",
    "    \"tie\": \"넥타이\",\n",
    "    \"suitcase\": \"여행 가방\",\n",
    "    \"frisbee\": \"프리스비\",\n",
    "    \"skis\": \"스키\",\n",
    "    \"snowboard\": \"스노보드\",\n",
    "    \"sports ball\": \"스포츠 공\",\n",
    "    \"kite\": \"연\",\n",
    "    \"baseball bat\": \"야구 배트\",\n",
    "    \"baseball glove\": \"야구 글러브\",\n",
    "    \"skateboard\": \"스케이트보드\",\n",
    "    \"surfboard\": \"서핑보드\",\n",
    "    \"tennis racket\": \"테니스 라켓\",\n",
    "    \"bottle\": \"병\",\n",
    "    \"wine glass\": \"와인 잔\",\n",
    "    \"cup\": \"컵\",\n",
    "    \"fork\": \"포크\",\n",
    "    \"knife\": \"칼\",\n",
    "    \"spoon\": \"숟가락\",\n",
    "    \"bowl\": \"그릇\",\n",
    "    \"banana\": \"바나나\",\n",
    "    \"apple\": \"사과\",\n",
    "    \"sandwich\": \"샌드위치\",\n",
    "    \"orange\": \"오렌지\",\n",
    "    \"broccoli\": \"브로콜리\",\n",
    "    \"carrot\": \"당근\",\n",
    "    \"hot dog\": \"핫도그\",\n",
    "    \"pizza\": \"피자\",\n",
    "    \"donut\": \"도넛\",\n",
    "    \"cake\": \"케이크\",\n",
    "    \"chair\": \"의자\",\n",
    "    \"couch\": \"소파\",\n",
    "    \"potted plant\": \"화분\",\n",
    "    \"bed\": \"침대\",\n",
    "    \"dining table\": \"식탁\",\n",
    "    \"toilet\": \"화장실\",\n",
    "    \"tv\": \"텔레비전\",\n",
    "    \"laptop\": \"노트북\",\n",
    "    \"mouse\": \"마우스\",\n",
    "    \"remote\": \"리모컨\",\n",
    "    \"keyboard\": \"키보드\",\n",
    "    \"cell phone\": \"휴대전화\",\n",
    "    \"microwave\": \"전자레인지\",\n",
    "    \"oven\": \"오븐\",\n",
    "    \"toaster\": \"토스터\",\n",
    "    \"sink\": \"싱크\",\n",
    "    \"refrigerator\": \"냉장고\",\n",
    "    \"book\": \"책\",\n",
    "    \"clock\": \"시계\",\n",
    "    \"vase\": \"꽃병\",\n",
    "    \"scissors\": \"가위\",\n",
    "    \"teddy bear\": \"테디 베어\",\n",
    "    \"hair dryer\": \"헤어 드라이어\",\n",
    "    \"toothbrush\": \"칫솔\"\n",
    "}"
   ]
  },
  {
   "cell_type": "code",
   "execution_count": 5,
   "metadata": {},
   "outputs": [],
   "source": [
    "file = open(imageFilePath, \"rb\")\n",
    "imageContents = base64.b64encode(file.read()).decode(\"utf8\")\n",
    "file.close()"
   ]
  },
  {
   "cell_type": "code",
   "execution_count": 6,
   "metadata": {},
   "outputs": [],
   "source": [
    "imageRequestJson = { \n",
    "    \"argument\": {\n",
    "        \"type\": type,\n",
    "        \"file\": imageContents\n",
    "    }\n",
    "}"
   ]
  },
  {
   "cell_type": "code",
   "execution_count": 7,
   "metadata": {},
   "outputs": [],
   "source": [
    "http = urllib3.PoolManager()"
   ]
  },
  {
   "cell_type": "code",
   "execution_count": 8,
   "metadata": {},
   "outputs": [],
   "source": [
    "obejctDetectionResponse = http.request(\n",
    "    \"POST\",\n",
    "    objectDetectionApiURL,\n",
    "    headers={\"Content-Type\": \"application/json; charset=UTF-8\" , \"Authorization\": accessKey},\n",
    "    body=json.dumps(imageRequestJson)\n",
    ")"
   ]
  },
  {
   "cell_type": "code",
   "execution_count": 9,
   "metadata": {},
   "outputs": [
    {
     "name": "stdout",
     "output_type": "stream",
     "text": [
      "[responseCode] 200\n",
      "[responBody]\n",
      "{\"result\":0,\"return_object\":{\"data\":[{\"class\":\"person\",\"confidence\":\"0.998743\",\"x\":\"1\",\"y\":\"6\",\"width\":\"78\",\"height\":\"246\"},{\"class\":\"dog\",\"confidence\":\"0.907914\",\"x\":\"95\",\"y\":\"174\",\"width\":\"88\",\"height\":\"70\"}]}}\n"
     ]
    }
   ],
   "source": [
    "print(\"[responseCode] \" + str(obejctDetectionResponse.status))\n",
    "print(\"[responBody]\")\n",
    "print(str(obejctDetectionResponse.data, 'utf-8'))"
   ]
  },
  {
   "cell_type": "code",
   "execution_count": 10,
   "metadata": {},
   "outputs": [],
   "source": [
    "obejctDetectionJson = json.loads(str(obejctDetectionResponse.data, 'utf-8'))"
   ]
  },
  {
   "cell_type": "code",
   "execution_count": 11,
   "metadata": {},
   "outputs": [],
   "source": [
    "object_infos = obejctDetectionJson['return_object']['data']\n",
    "\n",
    "objectTags = []\n",
    "for object in object_infos:\n",
    "    objectTags.append(object_to_korean[object['class']])"
   ]
  },
  {
   "cell_type": "code",
   "execution_count": 12,
   "metadata": {},
   "outputs": [
    {
     "data": {
      "text/plain": [
       "['사람', '개']"
      ]
     },
     "execution_count": 12,
     "metadata": {},
     "output_type": "execute_result"
    }
   ],
   "source": [
    "objectTags"
   ]
  },
  {
   "cell_type": "code",
   "execution_count": 13,
   "metadata": {},
   "outputs": [],
   "source": [
    "status_to_korean = {\n",
    "    \"Standing\": \"서\",\n",
    "    \"Walking\": \"걷\",\n",
    "    \"Crouch\": \"웅크리\",\n",
    "    \"Running\": \"달리\",\n",
    "    \"Lying\": \"눕\",\n",
    "    \"Sitting\": \"앉\"\n",
    "}"
   ]
  },
  {
   "cell_type": "code",
   "execution_count": 14,
   "metadata": {},
   "outputs": [],
   "source": [
    "humanStatusResponse = http.request(\n",
    "    \"POST\",\n",
    "    humanStatusApiURL,\n",
    "    headers={\"Content-Type\": \"application/json; charset=UTF-8\",\"Authorization\": accessKey},\n",
    "    body=json.dumps(imageRequestJson)\n",
    ")"
   ]
  },
  {
   "cell_type": "code",
   "execution_count": 15,
   "metadata": {},
   "outputs": [
    {
     "data": {
      "text/plain": [
       "'{\"result\":0,\"return_object\":[{\"data\":[\"/home/deepview/ai-human-status-detect/src/../upload/fce8bbe3-36a2-45d5-ac29-5776603a76f9/0.png\",{\"class\":\"Walking\",\"confidence\":\"0.866897463798523\",\"x\":2.164262294769287,\"y\":10.341998100280762,\"width\":78.10759592056274,\"height\":225.7191743850708,\"segm\":[37,10,36,11,34,11,34,12,33,13,33,15,32,16,32,17,31,18,31,20,30,21,30,33,31,34,31,39,28,42,26,42,25,43,17,43,17,44,15,46,15,47,11,51,10,51,9,52,9,54,8,55,8,63,7,64,7,75,6,76,6,81,5,82,5,95,4,96,4,106,3,107,3,116,4,117,4,127,3,128,3,146,5,148,7,148,8,149,10,147,10,146,11,145,11,144,12,143,11,142,11,138,10,137,10,117,11,116,11,115,12,114,12,112,13,111,13,106,14,105,15,106,15,112,16,113,16,125,17,126,17,130,18,131,18,135,19,136,19,146,20,147,20,154,21,155,21,181,20,182,20,191,21,192,21,208,22,209,22,220,23,221,23,232,24,233,24,234,25,235,51,235,51,234,53,232,53,228,54,227,54,213,55,212,55,204,56,203,56,198,57,197,57,180,58,179,58,172,59,171,59,164,60,163,60,153,61,152,61,147,62,146,62,139,63,138,63,121,64,120,64,118,65,117,66,118,66,120,68,122,68,126,69,127,69,135,70,136,70,140,71,141,71,143,72,144,72,145,73,146,76,146,76,145,77,144,77,142,78,141,78,137,79,136,79,134,78,133,78,130,77,129,77,124,76,123,76,118,75,117,75,114,74,113,74,101,73,100,73,96,72,95,72,92,71,91,71,87,70,86,70,82,69,81,69,58,68,57,68,52,63,47,63,45,61,43,59,43,58,42,56,42,55,41,55,40,54,39,54,37,55,36,55,34,56,33,56,31,57,30,57,22,56,21,56,19,54,17,54,16,53,15,53,14,52,13,52,12,51,11,49,11,48,10],\"key\":[48.454498291015625,41.25770950317383,0.5498659610748291,52.130149841308594,36.20086669921875,0.510366678237915,44.31938934326172,35.51129913330078,0.48887231945991516,32.832977294921875,30.22459602355957,0.2634563148021698,32.832977294921875,30.454448699951172,1.2810362577438354,62.46791076660156,50.681827545166016,0.3213401734828949,15.143904685974121,53.44010925292969,0.23138386011123657,65.9138412475586,87.4588851928711,0.34255093336105347,10.319613456726074,92.28587341308594,0.2456447184085846,73.03541564941406,122.8568115234375,0.3729656934738159,6.414234161376953,131.1316375732422,0.3706181049346924,56.72471237182617,126.07479095458984,0.15119221806526184,25.48167610168457,123.08665466308594,0.12264259159564972,49.373409271240234,179.40151977539062,0.1553936004638672,30.305967330932617,174.8043975830078,0.19056881964206696,46.616668701171875,235.48654174804688,0.16387104988098145,30.995153427124023,226.75198364257812,0.1585441529750824]},{\"class\":\"Standing\",\"confidence\":\"0.6349695920944214\",\"x\":2.5716264247894287,\"y\":8.208714485168457,\"width\":75.95548844337463,\"height\":243.68955516815186,\"segm\":[39,8,38,9,36,9,36,10,35,11,35,13,33,15,33,16,31,18,31,19,30,20,30,34,31,35,31,39,30,40,30,41,28,43,17,43,14,46,14,48,13,49,13,50,11,52,10,52,9,53,9,54,8,55,8,65,7,66,7,74,6,75,6,82,5,83,5,96,4,97,4,105,3,106,3,145,6,148,6,149,8,149,9,148,9,147,10,146,10,118,11,117,11,114,12,113,12,111,13,110,13,106,14,105,15,106,15,110,16,111,16,125,17,126,17,130,18,131,18,137,19,138,19,147,20,148,20,154,21,155,21,207,22,208,22,223,23,224,23,234,24,235,24,241,25,242,25,243,26,244,26,245,27,246,27,247,28,248,28,249,29,249,30,250,47,250,48,249,48,248,49,247,49,246,50,245,50,243,51,242,51,238,52,237,52,234,53,233,53,222,54,221,54,214,55,213,55,206,56,205,56,192,57,191,57,185,58,184,58,172,59,171,59,162,60,161,60,157,61,156,61,148,62,147,62,139,63,138,63,130,64,129,64,115,66,113,67,114,67,119,68,120,68,130,69,131,69,136,70,137,70,141,71,142,71,145,72,146,73,146,74,147,74,146,76,144,76,142,77,141,77,126,76,125,76,122,75,121,75,113,74,112,74,107,73,106,73,100,72,99,72,92,71,91,71,88,70,87,70,83,69,82,69,55,68,54,68,53,65,50,65,49,64,48,64,46,63,45,63,44,62,44,61,43,57,43,54,40,54,36,55,35,55,33,56,32,56,20,55,19,55,17,54,17,53,16,53,15,51,13,51,11,50,10,50,9,48,9,47,8],\"key\":[48.5809211730957,40.50907516479492,0.5043777823448181,51.56406784057617,36.14105224609375,0.49249809980392456,44.450408935546875,35.45137023925781,0.5502094030380249,55.006160736083984,34.9915771484375,0.26220521330833435,32.976768493652344,30.16376304626465,1.285529613494873,62.57875442504883,51.314178466796875,0.3375691771507263,15.536839485168457,52.463653564453125,0.23337210714817047,66.0208511352539,87.40782165527344,0.3500968813896179,10.258964538574219,91.77584075927734,0.26812121272087097,72.905029296875,122.35197448730469,0.364225834608078,6.587400436401367,130.85812377929688,0.37014585733413696,56.841941833496094,124.8808364868164,0.149711474776268,24.486276626586914,121.89219665527344,0.13185840845108032,49.03986740112305,178.67645263671875,0.17025284469127655,30.68204116821289,174.0785369873047,0.18822826445102692,46.51566696166992,230.40301513671875,0.1868913620710373,30.911514282226562,229.02362060546875,0.16520395874977112]}]}]}'"
      ]
     },
     "execution_count": 15,
     "metadata": {},
     "output_type": "execute_result"
    }
   ],
   "source": [
    "str(humanStatusResponse.data, 'utf-8')"
   ]
  },
  {
   "cell_type": "code",
   "execution_count": 16,
   "metadata": {},
   "outputs": [],
   "source": [
    "humanStatusJson = json.loads(str(humanStatusResponse.data, 'utf-8'))"
   ]
  },
  {
   "cell_type": "code",
   "execution_count": 17,
   "metadata": {},
   "outputs": [],
   "source": [
    "statusTags = []\n",
    "for return_object in humanStatusJson['return_object']:\n",
    "    for data in return_object['data'][1:]:\n",
    "        if float(data['confidence']) > 0.6:\n",
    "            statusTags.append(status_to_korean[data['class']])"
   ]
  },
  {
   "cell_type": "code",
   "execution_count": 18,
   "metadata": {},
   "outputs": [
    {
     "data": {
      "text/plain": [
       "['걷', '서']"
      ]
     },
     "execution_count": 18,
     "metadata": {},
     "output_type": "execute_result"
    }
   ],
   "source": [
    "statusTags"
   ]
  },
  {
   "cell_type": "code",
   "execution_count": 19,
   "metadata": {},
   "outputs": [],
   "source": [
    "analysisCode = \"morp\"\n",
    "text = \"개와 함께 걷고 있는 사람을 찾아줘\""
   ]
  },
  {
   "cell_type": "code",
   "execution_count": 20,
   "metadata": {},
   "outputs": [],
   "source": [
    "wordRequestJson = {  \n",
    "    \"argument\": {\n",
    "        \"text\": text,\n",
    "        \"analysis_code\": analysisCode\n",
    "    }\n",
    "}\n",
    "    \n",
    "wiseNLUResponse = http.request(\n",
    "    \"POST\",\n",
    "    WiseNLUApiURL,\n",
    "    headers={\"Content-Type\": \"application/json; charset=UTF-8\", \"Authorization\" :  accessKey},\n",
    "    body=json.dumps(wordRequestJson)\n",
    ")"
   ]
  },
  {
   "cell_type": "code",
   "execution_count": 21,
   "metadata": {},
   "outputs": [
    {
     "name": "stdout",
     "output_type": "stream",
     "text": [
      "{\"result\":0,\"return_object\":{\"doc_id\":\"\",\"DCT\":\"\",\"category\":\"\",\"category_weight\":0,\"title\":{\"text\":\"\",\"NE\":\"\"},\"metaInfo\":{},\"paragraphInfo\":[],\"sentence\":[{\"id\":0,\"reserve_str\":\"\",\"text\":\"개와 함께 걷고 있는 사람을 찾아줘\",\"morp\":[{\"id\":0,\"lemma\":\"개\",\"type\":\"NNG\",\"position\":0,\"weight\":0.0469005},{\"id\":1,\"lemma\":\"와\",\"type\":\"JKB\",\"position\":3,\"weight\":0.0633984},{\"id\":2,\"lemma\":\"함께\",\"type\":\"MAG\",\"position\":7,\"weight\":0.143687},{\"id\":3,\"lemma\":\"걷\",\"type\":\"VV\",\"position\":14,\"weight\":0.111353},{\"id\":4,\"lemma\":\"고\",\"type\":\"EC\",\"position\":17,\"weight\":0.133628},{\"id\":5,\"lemma\":\"있\",\"type\":\"VX\",\"position\":21,\"weight\":0.097514},{\"id\":6,\"lemma\":\"는\",\"type\":\"ETM\",\"position\":24,\"weight\":0.169214},{\"id\":7,\"lemma\":\"사람\",\"type\":\"NNG\",\"position\":28,\"weight\":0.173756},{\"id\":8,\"lemma\":\"을\",\"type\":\"JKO\",\"position\":34,\"weight\":0.100117},{\"id\":9,\"lemma\":\"찾아주\",\"type\":\"VV\",\"position\":38,\"weight\":0.0531004},{\"id\":10,\"lemma\":\"어\",\"type\":\"EC\",\"position\":44,\"weight\":0.014673}],\"morp_eval\":[{\"id\":0,\"result\":\"개/NNG+와/JKB\",\"target\":\"개와\",\"word_id\":0,\"m_begin\":0,\"m_end\":1},{\"id\":1,\"result\":\"함께/MAG\",\"target\":\"함께\",\"word_id\":1,\"m_begin\":2,\"m_end\":2},{\"id\":2,\"result\":\"걷/VV+고/EC\",\"target\":\"걷고\",\"word_id\":2,\"m_begin\":3,\"m_end\":4},{\"id\":3,\"result\":\"있/VX+는/ETM\",\"target\":\"있는\",\"word_id\":3,\"m_begin\":5,\"m_end\":6},{\"id\":4,\"result\":\"사람/NNG+을/JKO\",\"target\":\"사람을\",\"word_id\":4,\"m_begin\":7,\"m_end\":8},{\"id\":5,\"result\":\"찾아주/VV+어/EC\",\"target\":\"찾아줘\",\"word_id\":5,\"m_begin\":9,\"m_end\":10}],\"WSD\":[],\"word\":[{\"id\":0,\"text\":\"개와\",\"type\":\"\",\"begin\":0,\"end\":1},{\"id\":1,\"text\":\"함께\",\"type\":\"\",\"begin\":2,\"end\":2},{\"id\":2,\"text\":\"걷고\",\"type\":\"\",\"begin\":3,\"end\":4},{\"id\":3,\"text\":\"있는\",\"type\":\"\",\"begin\":5,\"end\":6},{\"id\":4,\"text\":\"사람을\",\"type\":\"\",\"begin\":7,\"end\":8},{\"id\":5,\"text\":\"찾아줘\",\"type\":\"\",\"begin\":9,\"end\":10}],\"NE\":[],\"NE_Link\":[],\"chunk\":[],\"dependency\":[],\"phrase_dependency\":[],\"SRL\":[],\"relation\":[],\"SA\":[],\"ZA\":[]}],\"entity\":[]}}\n"
     ]
    }
   ],
   "source": [
    "print(str(wiseNLUResponse.data, 'utf-8'))"
   ]
  },
  {
   "cell_type": "code",
   "execution_count": 22,
   "metadata": {},
   "outputs": [
    {
     "name": "stdout",
     "output_type": "stream",
     "text": [
      "['개', '사람']\n"
     ]
    }
   ],
   "source": [
    "morp_pattern = re.compile('\\\"morp\\\":\\[(.*?)\\]')\n",
    "res = re.findall(morp_pattern, str(wiseNLUResponse.data,\"utf-8\"))[0]\n",
    "\n",
    "nng_pattern = re.compile(\"{\\\"id\\\":\\d+,\\\"lemma\\\":\\\"[ㄱ-ㅎ|ㅏ-ㅣ|가-힣]*\\\",\\\"type\\\":\\\"NNG\\\",\\\"position\\\":\\d+,\\\"weight\\\":\\d.\\d+}\")\n",
    "nng_res = re.findall(nng_pattern, res)\n",
    "\n",
    "nng_list = []\n",
    "for nng in nng_res:\n",
    "    nng_dict = json.loads(nng)\n",
    "    nng_list.append(nng_dict)\n",
    "\n",
    "nng_lemmas = [nng['lemma'] for nng in nng_list]\n",
    "\n",
    "print(nng_lemmas)"
   ]
  },
  {
   "cell_type": "code",
   "execution_count": 23,
   "metadata": {},
   "outputs": [
    {
     "name": "stdout",
     "output_type": "stream",
     "text": [
      "['걷', '찾아주']\n"
     ]
    }
   ],
   "source": [
    "morp_pattern = re.compile('\\\"morp\\\":\\[(.*?)\\]')\n",
    "res = re.findall(morp_pattern, str(wiseNLUResponse.data,\"utf-8\"))[0]\n",
    "\n",
    "vv_pattern = re.compile(\"{\\\"id\\\":\\d+,\\\"lemma\\\":\\\"[ㄱ-ㅎ|ㅏ-ㅣ|가-힣]*\\\",\\\"type\\\":\\\"VV\\\",\\\"position\\\":\\d+,\\\"weight\\\":\\d.\\d+}\")\n",
    "vv_res = re.findall(vv_pattern, res)\n",
    "\n",
    "vv_list = []\n",
    "for vv in vv_res:\n",
    "    vv_dict = json.loads(vv)\n",
    "    vv_list.append(vv_dict)\n",
    "\n",
    "vv_lemmas = [vv['lemma'] for vv in vv_list]\n",
    "\n",
    "status_to_korean.values()\n",
    "\n",
    "print(vv_lemmas)"
   ]
  },
  {
   "cell_type": "code",
   "execution_count": 24,
   "metadata": {},
   "outputs": [],
   "source": [
    "tmp = []\n",
    "for status in status_to_korean.values():\n",
    "    if status in vv_lemmas:\n",
    "        tmp.append(status)\n",
    "\n",
    "vv_lemmas = tmp"
   ]
  },
  {
   "cell_type": "markdown",
   "metadata": {},
   "source": [
    "# Similarity"
   ]
  },
  {
   "cell_type": "code",
   "execution_count": 25,
   "metadata": {},
   "outputs": [],
   "source": [
    "from difflib import SequenceMatcher"
   ]
  },
  {
   "cell_type": "code",
   "execution_count": 37,
   "metadata": {},
   "outputs": [],
   "source": [
    "SIM_THRES = 0.5"
   ]
  },
  {
   "cell_type": "code",
   "execution_count": 26,
   "metadata": {},
   "outputs": [],
   "source": [
    "objectTags.sort()\n",
    "nng_lemmas.sort()\n",
    "statusTags.sort()\n",
    "vv_lemmas.sort()"
   ]
  },
  {
   "cell_type": "code",
   "execution_count": 27,
   "metadata": {},
   "outputs": [
    {
     "data": {
      "text/plain": [
       "(['개', '사람'], ['개', '사람'], ['걷', '서'], ['걷'])"
      ]
     },
     "execution_count": 27,
     "metadata": {},
     "output_type": "execute_result"
    }
   ],
   "source": [
    "objectTags, nng_lemmas, statusTags, vv_lemmas"
   ]
  },
  {
   "cell_type": "code",
   "execution_count": 28,
   "metadata": {},
   "outputs": [],
   "source": [
    "combined_object = ''.join(objectTags + statusTags)\n",
    "combined_nng = ''.join(nng_lemmas + vv_lemmas)"
   ]
  },
  {
   "cell_type": "code",
   "execution_count": 29,
   "metadata": {},
   "outputs": [],
   "source": [
    "matcher = SequenceMatcher(None, combined_object, combined_nng)"
   ]
  },
  {
   "cell_type": "code",
   "execution_count": 30,
   "metadata": {},
   "outputs": [],
   "source": [
    "sim_ratio = matcher.ratio()"
   ]
  },
  {
   "cell_type": "code",
   "execution_count": 38,
   "metadata": {},
   "outputs": [
    {
     "name": "stdout",
     "output_type": "stream",
     "text": [
      "sample/walkingWithDog2.png\n"
     ]
    }
   ],
   "source": [
    "if sim_ratio > SIM_THRES:\n",
    "    print(imageFilePath)"
   ]
  }
 ],
 "metadata": {
  "kernelspec": {
   "display_name": "base",
   "language": "python",
   "name": "python3"
  },
  "language_info": {
   "codemirror_mode": {
    "name": "ipython",
    "version": 3
   },
   "file_extension": ".py",
   "mimetype": "text/x-python",
   "name": "python",
   "nbconvert_exporter": "python",
   "pygments_lexer": "ipython3",
   "version": "3.9.13"
  }
 },
 "nbformat": 4,
 "nbformat_minor": 2
}
