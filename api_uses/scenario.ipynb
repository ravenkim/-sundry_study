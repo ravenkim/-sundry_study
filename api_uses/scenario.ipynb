{
 "cells": [
  {
   "cell_type": "code",
   "execution_count": 1,
   "metadata": {},
   "outputs": [],
   "source": [
    "import urllib3\n",
    "import json\n",
    "import base64\n",
    "import re"
   ]
  },
  {
   "cell_type": "code",
   "execution_count": 26,
   "metadata": {},
   "outputs": [],
   "source": [
    "accessKey = \"8972d09b-9538-44a2-bf3d-f51c50e2edf0\"\n",
    "imageFilePath = \"sample\\walkingWithDog3.png\"\n",
    "type = \"jpg\""
   ]
  },
  {
   "cell_type": "code",
   "execution_count": 27,
   "metadata": {},
   "outputs": [],
   "source": [
    "objectDetectionApiURL = \"http://aiopen.etri.re.kr:8000/ObjectDetect\"\n",
    "humanStatusApiURL = \"http://aiopen.etri.re.kr:8000/HumanStatus\"\n",
    "WiseNLUApiURL = \"http://aiopen.etri.re.kr:8000/WiseNLU_spoken\""
   ]
  },
  {
   "cell_type": "code",
   "execution_count": 28,
   "metadata": {},
   "outputs": [],
   "source": [
    "object_to_korean = {\n",
    "    \"person\": \"사람\",\n",
    "    \"bicycle\": \"자전거\",\n",
    "    \"car\": \"자동차\",\n",
    "    \"motorcycle\": \"오토바이\",\n",
    "    \"airplane\": \"비행기\",\n",
    "    \"bus\": \"버스\",\n",
    "    \"train\": \"기차\",\n",
    "    \"truck\": \"트럭\",\n",
    "    \"boat\": \"보트\",\n",
    "    \"traffic light\": \"신호등\",\n",
    "    \"fire hydrant\": \"소화전\",\n",
    "    \"stop sign\": \"정지 신호\",\n",
    "    \"parking meter\": \"주차 미터\",\n",
    "    \"bench\": \"벤치\",\n",
    "    \"bird\": \"새\",\n",
    "    \"cat\": \"고양이\",\n",
    "    \"dog\": \"개\",\n",
    "    \"horse\": \"말\",\n",
    "    \"sheep\": \"양\",\n",
    "    \"cow\": \"소\",\n",
    "    \"elephant\": \"코끼리\",\n",
    "    \"bear\": \"곰\",\n",
    "    \"zebra\": \"얼룩말\",\n",
    "    \"giraffe\": \"기린\",\n",
    "    \"backpack\": \"배낭\",\n",
    "    \"umbrella\": \"우산\",\n",
    "    \"handbag\": \"핸드백\",\n",
    "    \"tie\": \"넥타이\",\n",
    "    \"suitcase\": \"여행 가방\",\n",
    "    \"frisbee\": \"프리스비\",\n",
    "    \"skis\": \"스키\",\n",
    "    \"snowboard\": \"스노보드\",\n",
    "    \"sports ball\": \"스포츠 공\",\n",
    "    \"kite\": \"연\",\n",
    "    \"baseball bat\": \"야구 배트\",\n",
    "    \"baseball glove\": \"야구 글러브\",\n",
    "    \"skateboard\": \"스케이트보드\",\n",
    "    \"surfboard\": \"서핑보드\",\n",
    "    \"tennis racket\": \"테니스 라켓\",\n",
    "    \"bottle\": \"병\",\n",
    "    \"wine glass\": \"와인 잔\",\n",
    "    \"cup\": \"컵\",\n",
    "    \"fork\": \"포크\",\n",
    "    \"knife\": \"칼\",\n",
    "    \"spoon\": \"숟가락\",\n",
    "    \"bowl\": \"그릇\",\n",
    "    \"banana\": \"바나나\",\n",
    "    \"apple\": \"사과\",\n",
    "    \"sandwich\": \"샌드위치\",\n",
    "    \"orange\": \"오렌지\",\n",
    "    \"broccoli\": \"브로콜리\",\n",
    "    \"carrot\": \"당근\",\n",
    "    \"hot dog\": \"핫도그\",\n",
    "    \"pizza\": \"피자\",\n",
    "    \"donut\": \"도넛\",\n",
    "    \"cake\": \"케이크\",\n",
    "    \"chair\": \"의자\",\n",
    "    \"couch\": \"소파\",\n",
    "    \"potted plant\": \"화분\",\n",
    "    \"bed\": \"침대\",\n",
    "    \"dining table\": \"식탁\",\n",
    "    \"toilet\": \"화장실\",\n",
    "    \"tv\": \"텔레비전\",\n",
    "    \"laptop\": \"노트북\",\n",
    "    \"mouse\": \"마우스\",\n",
    "    \"remote\": \"리모컨\",\n",
    "    \"keyboard\": \"키보드\",\n",
    "    \"cell phone\": \"휴대전화\",\n",
    "    \"microwave\": \"전자레인지\",\n",
    "    \"oven\": \"오븐\",\n",
    "    \"toaster\": \"토스터\",\n",
    "    \"sink\": \"싱크\",\n",
    "    \"refrigerator\": \"냉장고\",\n",
    "    \"book\": \"책\",\n",
    "    \"clock\": \"시계\",\n",
    "    \"vase\": \"꽃병\",\n",
    "    \"scissors\": \"가위\",\n",
    "    \"teddy bear\": \"테디 베어\",\n",
    "    \"hair dryer\": \"헤어 드라이어\",\n",
    "    \"toothbrush\": \"칫솔\"\n",
    "}"
   ]
  },
  {
   "cell_type": "code",
   "execution_count": 29,
   "metadata": {},
   "outputs": [],
   "source": [
    "file = open(imageFilePath, \"rb\")\n",
    "imageContents = base64.b64encode(file.read()).decode(\"utf8\")\n",
    "file.close()"
   ]
  },
  {
   "cell_type": "code",
   "execution_count": 30,
   "metadata": {},
   "outputs": [],
   "source": [
    "imageRequestJson = { \n",
    "    \"argument\": {\n",
    "        \"type\": type,\n",
    "        \"file\": imageContents\n",
    "    }\n",
    "}"
   ]
  },
  {
   "cell_type": "code",
   "execution_count": 7,
   "metadata": {},
   "outputs": [],
   "source": [
    "http = urllib3.PoolManager()"
   ]
  },
  {
   "cell_type": "code",
   "execution_count": 10,
   "metadata": {},
   "outputs": [],
   "source": [
    "obejctDetectionResponse = http.request(\n",
    "    \"POST\",\n",
    "    objectDetectionApiURL,\n",
    "    headers={\"Content-Type\": \"application/json; charset=UTF-8\" , \"Authorization\": accessKey},\n",
    "    body=json.dumps(imageRequestJson)\n",
    ")"
   ]
  },
  {
   "cell_type": "code",
   "execution_count": 11,
   "metadata": {},
   "outputs": [
    {
     "name": "stdout",
     "output_type": "stream",
     "text": [
      "[responseCode] 200\n",
      "[responBody]\n",
      "{\"result\":0,\"return_object\":{\"data\":[{\"class\":\"bench\",\"confidence\":\"0.987301\",\"x\":\"17\",\"y\":\"207\",\"width\":\"486\",\"height\":\"161\"},{\"class\":\"bench\",\"confidence\":\"0.708714\",\"x\":\"34\",\"y\":\"39\",\"width\":\"426\",\"height\":\"336\"},{\"class\":\"cat\",\"confidence\":\"0.950230\",\"x\":\"52\",\"y\":\"6\",\"width\":\"393\",\"height\":\"348\"}]}}\n"
     ]
    }
   ],
   "source": [
    "print(\"[responseCode] \" + str(obejctDetectionResponse.status))\n",
    "print(\"[responBody]\")\n",
    "print(str(obejctDetectionResponse.data, 'utf-8'))"
   ]
  },
  {
   "cell_type": "code",
   "execution_count": 12,
   "metadata": {},
   "outputs": [],
   "source": [
    "obejctDetectionJson = json.loads(str(obejctDetectionResponse.data, 'utf-8'))"
   ]
  },
  {
   "cell_type": "code",
   "execution_count": 18,
   "metadata": {},
   "outputs": [],
   "source": [
    "object_infos = obejctDetectionJson['return_object']['data']\n",
    "\n",
    "objects = []\n",
    "for object in object_infos:\n",
    "    objects.append(object_to_korean[object['class']])"
   ]
  },
  {
   "cell_type": "code",
   "execution_count": 19,
   "metadata": {},
   "outputs": [
    {
     "data": {
      "text/plain": [
       "['벤치', '벤치', '고양이']"
      ]
     },
     "execution_count": 19,
     "metadata": {},
     "output_type": "execute_result"
    }
   ],
   "source": [
    "objects"
   ]
  },
  {
   "cell_type": "code",
   "execution_count": 20,
   "metadata": {},
   "outputs": [],
   "source": [
    "status_to_korean = {\n",
    "    \"Standing\": \"서있는\",\n",
    "    \"Walking\": \"걷는\",\n",
    "    \"Crouch\": \"웅크리는\",\n",
    "    \"Running\": \"달리는\",\n",
    "    \"Lying\": \"누워 있는\",\n",
    "    \"Sitting\": \"앉아 있는\"\n",
    "}"
   ]
  },
  {
   "cell_type": "code",
   "execution_count": 31,
   "metadata": {},
   "outputs": [],
   "source": [
    "humanStatusResponse = http.request(\n",
    "    \"POST\",\n",
    "    humanStatusApiURL,\n",
    "    headers={\"Content-Type\": \"application/json; charset=UTF-8\",\"Authorization\": accessKey},\n",
    "    body=json.dumps(imageRequestJson)\n",
    ")"
   ]
  },
  {
   "cell_type": "code",
   "execution_count": 23,
   "metadata": {},
   "outputs": [
    {
     "data": {
      "text/plain": [
       "'{\"result\":0,\"return_object\":[{\"data\":[\"/home/deepview/ai-human-status-detect/src/../upload/0e588fc8-d9bf-48a1-8b55-e0ba365edc87/0.png\"]}]}'"
      ]
     },
     "execution_count": 23,
     "metadata": {},
     "output_type": "execute_result"
    }
   ],
   "source": [
    "str(humanStatusResponse.data, 'utf-8')"
   ]
  },
  {
   "cell_type": "code",
   "execution_count": 22,
   "metadata": {},
   "outputs": [],
   "source": [
    "analysisCode = \"morp\"\n",
    "text = \"벤치에 앉아 새를 보고 있는 사람을 보여줘\""
   ]
  },
  {
   "cell_type": "code",
   "execution_count": 26,
   "metadata": {},
   "outputs": [],
   "source": [
    "wordRequestJson = {  \n",
    "    \"argument\": {\n",
    "        \"text\": text,\n",
    "        \"analysis_code\": analysisCode\n",
    "    }\n",
    "}\n",
    "    \n",
    "wiseNLUResponse = http.request(\n",
    "    \"POST\",\n",
    "    WiseNLUApiURL,\n",
    "    headers={\"Content-Type\": \"application/json; charset=UTF-8\", \"Authorization\" :  accessKey},\n",
    "    body=json.dumps(wordRequestJson)\n",
    ")"
   ]
  },
  {
   "cell_type": "code",
   "execution_count": 27,
   "metadata": {},
   "outputs": [
    {
     "name": "stdout",
     "output_type": "stream",
     "text": [
      "['벤치', '새', '사람']\n"
     ]
    }
   ],
   "source": [
    "morp_pattern = re.compile('\\\"morp\\\":\\[(.*?)\\]')\n",
    "res = re.findall(morp_pattern, str(wiseNLUResponse.data,\"utf-8\"))[0]\n",
    "\n",
    "nng_pattern = re.compile(\"{\\\"id\\\":\\d+,\\\"lemma\\\":\\\"[ㄱ-ㅎ|ㅏ-ㅣ|가-힣]*\\\",\\\"type\\\":\\\"NNG\\\",\\\"position\\\":\\d+,\\\"weight\\\":\\d.\\d+}\")\n",
    "nng_res = re.findall(nng_pattern, res)\n",
    "\n",
    "nng_list = []\n",
    "for nng in nng_res:\n",
    "    nng_dict = json.loads(nng)\n",
    "    nng_list.append(nng_dict)\n",
    "\n",
    "lemmas = [nng['lemma'] for nng in nng_list]\n",
    "\n",
    "print(lemmas)"
   ]
  },
  {
   "cell_type": "code",
   "execution_count": null,
   "metadata": {},
   "outputs": [],
   "source": []
  }
 ],
 "metadata": {
  "kernelspec": {
   "display_name": "base",
   "language": "python",
   "name": "python3"
  },
  "language_info": {
   "codemirror_mode": {
    "name": "ipython",
    "version": 3
   },
   "file_extension": ".py",
   "mimetype": "text/x-python",
   "name": "python",
   "nbconvert_exporter": "python",
   "pygments_lexer": "ipython3",
   "version": "3.9.13"
  }
 },
 "nbformat": 4,
 "nbformat_minor": 2
}
